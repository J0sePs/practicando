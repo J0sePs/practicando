{
 "cells": [
  {
   "cell_type": "code",
   "execution_count": 2,
   "metadata": {},
   "outputs": [
    {
     "name": "stdout",
     "output_type": "stream",
     "text": [
      "Archivo CSV guardado correctamente.\n"
     ]
    }
   ],
   "source": [
    "import pandas as pd\n",
    "import numpy as np\n",
    "\n",
    "# Crear dataset con datos faltantes\n",
    "data = {\n",
    "    'ID': [1, 2, 3, 4, 5],\n",
    "    'Edad': [25, 30, 35, np.nan, 40],  # Edad tiene un dato faltante\n",
    "    'Ingresos': [4000, 5000, 6000, 7000, np.nan],  # Ingresos tiene un dato faltante\n",
    "    'Tiene_Casa': [1, 0, 1, 0, 1],  # Clasificación binaria\n",
    "    'Ciudad': ['Lima', 'Cusco', np.nan, 'Arequipa', 'Lima']  # Ciudad tiene un dato faltante\n",
    "}\n",
    "\n",
    "# Convertir a DataFrame\n",
    "df = pd.DataFrame(data)\n",
    "\n",
    "# Guardar en un archivo CSV\n",
    "df.to_csv('datos_ejemplo.csv', index=False)\n",
    "print(\"Archivo CSV guardado correctamente.\")"
   ]
  },
  {
   "cell_type": "code",
   "execution_count": 3,
   "metadata": {},
   "outputs": [
    {
     "name": "stdout",
     "output_type": "stream",
     "text": [
      "   ID  Edad  Ingresos  Tiene_Casa    Ciudad\n",
      "0   1  25.0    4000.0           1      Lima\n",
      "1   2  30.0    5000.0           0     Cusco\n",
      "2   3  35.0    6000.0           1       NaN\n",
      "3   4   NaN    7000.0           0  Arequipa\n",
      "4   5  40.0       NaN           1      Lima\n"
     ]
    }
   ],
   "source": [
    "# Cargar el archivo CSV\n",
    "df = pd.read_csv('datos_ejemplo.csv')\n",
    "\n",
    "# Mostrar los primeros datos\n",
    "print(df)\n"
   ]
  }
 ],
 "metadata": {
  "kernelspec": {
   "display_name": "Python 3",
   "language": "python",
   "name": "python3"
  },
  "language_info": {
   "codemirror_mode": {
    "name": "ipython",
    "version": 3
   },
   "file_extension": ".py",
   "mimetype": "text/x-python",
   "name": "python",
   "nbconvert_exporter": "python",
   "pygments_lexer": "ipython3",
   "version": "3.13.0"
  }
 },
 "nbformat": 4,
 "nbformat_minor": 2
}
